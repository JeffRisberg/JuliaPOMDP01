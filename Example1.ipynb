{
 "cells": [
  {
   "cell_type": "code",
   "execution_count": 1,
   "metadata": {},
   "outputs": [
    {
     "name": "stderr",
     "output_type": "stream",
     "text": [
      "┌ Info: Precompiling PLite [7876af07-990d-54b4-8888-23690620f79a]\n",
      "└ @ Base loading.jl:1317\n",
      "\u001b[33m\u001b[1m┌ \u001b[22m\u001b[39m\u001b[33m\u001b[1mWarning: \u001b[22m\u001b[39mPackage PLite does not have SharedArrays in its dependencies:\n",
      "\u001b[33m\u001b[1m│ \u001b[22m\u001b[39m- If you have PLite checked out for development and have\n",
      "\u001b[33m\u001b[1m│ \u001b[22m\u001b[39m  added SharedArrays as a dependency but haven't updated your primary\n",
      "\u001b[33m\u001b[1m│ \u001b[22m\u001b[39m  environment's manifest file, try `Pkg.resolve()`.\n",
      "\u001b[33m\u001b[1m│ \u001b[22m\u001b[39m- Otherwise you may need to report an issue with PLite\n",
      "\u001b[33m\u001b[1m└ \u001b[22m\u001b[39mLoading SharedArrays into PLite from project dependency, future warnings for PLite are suppressed.\n",
      "WARNING: Method definition (::Type{PLite.LazyDiscrete})(AbstractString, Float64) in module PLite at /Users/jeff/.julia/packages/PLite/ud1HP/src/valueiteration.jl:19 overwritten at /Users/jeff/.julia/packages/PLite/ud1HP/src/mcts.jl:41.\n",
      "  ** incremental compilation may be fatally broken for this module **\n",
      "\n",
      "WARNING: Method definition getspace(Int64, Array{String, 1}, Base.Dict{AbstractString, PLite.LazyVar}, Base.Dict{AbstractString, PLite.LazyDiscrete}) in module PLite at /Users/jeff/.julia/packages/PLite/ud1HP/src/valueiteration_solver.jl:23 overwritten at /Users/jeff/.julia/packages/PLite/ud1HP/src/mcts_solver.jl:21.\n",
      "  ** incremental compilation may be fatally broken for this module **\n",
      "\n",
      "WARNING: Method definition getvar(GridInterpolations.RectangleGrid{D} where D, Base.Dict{AbstractString, PLite.LazyVar}, Array{String, 1}, Int64) in module PLite at /Users/jeff/.julia/packages/PLite/ud1HP/src/valueiteration_solver.jl:49 overwritten at /Users/jeff/.julia/packages/PLite/ud1HP/src/mcts_serial.jl:144.\n",
      "  ** incremental compilation may be fatally broken for this module **\n",
      "\n"
     ]
    }
   ],
   "source": [
    "using PLite"
   ]
  },
  {
   "cell_type": "code",
   "execution_count": 2,
   "metadata": {},
   "outputs": [
    {
     "data": {
      "text/plain": [
       "MDP(Dict{AbstractString, PLite.LazyVar}(), Dict{AbstractString, PLite.LazyVar}(), PLite.LazyFunc(true, String[], PLite.var\"#emptyfunc#1\"()), PLite.LazyFunc(true, String[], PLite.var\"#emptyfunc#1\"()))"
      ]
     },
     "execution_count": 2,
     "metadata": {},
     "output_type": "execute_result"
    }
   ],
   "source": [
    "# constants\n",
    "const MinX = 0\n",
    "const MaxX = 100\n",
    "const StepX = 20\n",
    "\n",
    "# mdp definition\n",
    "mdp = MDP()"
   ]
  },
  {
   "cell_type": "code",
   "execution_count": 3,
   "metadata": {},
   "outputs": [
    {
     "data": {
      "text/plain": [
       "PLite.ValuesVar(\"move\", [\"W\", \"E\", \"stop\"])"
      ]
     },
     "execution_count": 3,
     "metadata": {},
     "output_type": "execute_result"
    }
   ],
   "source": [
    "# state space\n",
    "statevariable!(mdp, \"x\", MinX, MaxX)  # continuous\n",
    "statevariable!(mdp, \"goal\", [\"no\", \"yes\"])  # discrete\n",
    "\n",
    "# action space\n",
    "actionvariable!(mdp, \"move\", [\"W\", \"E\", \"stop\"])  # discrete"
   ]
  },
  {
   "cell_type": "code",
   "execution_count": 4,
   "metadata": {},
   "outputs": [
    {
     "data": {
      "text/plain": [
       "mytransition (generic function with 1 method)"
      ]
     },
     "execution_count": 4,
     "metadata": {},
     "output_type": "execute_result"
    }
   ],
   "source": [
    "function isgoal(x::Float64)\n",
    "  if abs(x - MaxX / 2) < StepX\n",
    "    return \"yes\"\n",
    "  else\n",
    "    return \"no\"\n",
    "  end\n",
    "end\n",
    "\n",
    "function mytransition(x::Float64, goal::AbstractString, move::AbstractString)\n",
    "  if isgoal(x) == \"yes\" && goal == \"yes\"\n",
    "    return [([x, isgoal(x)], 1.0)]\n",
    "  end\n",
    "\n",
    "  if move == \"E\"\n",
    "    if x >= MaxX\n",
    "      return [\n",
    "        ([x, isgoal(x)], 0.9),\n",
    "        ([x - StepX, isgoal(x - StepX)], 0.1)]\n",
    "    elseif x <= MinX\n",
    "      return [\n",
    "        ([x, isgoal(x)], 0.2),\n",
    "        ([x + StepX, isgoal(x + StepX)], 0.8)]\n",
    "    else\n",
    "      return [\n",
    "        ([x, isgoal(x)], 0.1),\n",
    "        ([x - StepX, isgoal(x - StepX)], 0.1),\n",
    "        ([x + StepX, isgoal(x + StepX)], 0.8)]\n",
    "    end\n",
    "  elseif move == \"W\"\n",
    "    if x >= MaxX\n",
    "      return [\n",
    "        ([x, isgoal(x)], 0.1),\n",
    "        ([x - StepX, isgoal(x - StepX)], 0.9)]\n",
    "    elseif x <= MinX\n",
    "      return [\n",
    "        ([x, isgoal(x)], 0.9),\n",
    "        ([x + StepX, isgoal(x + StepX)], 0.1)]\n",
    "    else\n",
    "      return [\n",
    "        ([x, isgoal(x)], 0.1),\n",
    "        ([x - StepX, isgoal(x - StepX)], 0.8),\n",
    "        ([x + StepX, isgoal(x + StepX)], 0.1)]\n",
    "    end\n",
    "  elseif move == \"stop\"\n",
    "    return [([x, isgoal(x)], 1.0)]\n",
    "  end\n",
    "end"
   ]
  },
  {
   "cell_type": "code",
   "execution_count": 5,
   "metadata": {},
   "outputs": [
    {
     "data": {
      "text/plain": [
       "PLite.LazyFunc(false, [\"x\", \"goal\", \"move\"], mytransition)"
      ]
     },
     "execution_count": 5,
     "metadata": {},
     "output_type": "execute_result"
    }
   ],
   "source": [
    "transition!(mdp, [\"x\", \"goal\", \"move\"], mytransition)"
   ]
  },
  {
   "cell_type": "code",
   "execution_count": 6,
   "metadata": {},
   "outputs": [
    {
     "data": {
      "text/plain": [
       "PLite.LazyFunc(false, [\"x\", \"goal\", \"move\"], myreward)"
      ]
     },
     "execution_count": 6,
     "metadata": {},
     "output_type": "execute_result"
    }
   ],
   "source": [
    "function myreward(x::Float64, goal::AbstractString, move::AbstractString)\n",
    "  if goal == \"yes\" && move == \"stop\"\n",
    "    return 1\n",
    "  else\n",
    "    return 0\n",
    "  end\n",
    "end\n",
    "\n",
    "reward!(mdp, [\"x\", \"goal\", \"move\"], myreward)"
   ]
  },
  {
   "cell_type": "code",
   "execution_count": 7,
   "metadata": {},
   "outputs": [
    {
     "data": {
      "text/plain": [
       "SerialValueIteration(true, 1000, 0.0001, 0.99, Dict{AbstractString, PLite.LazyDiscrete}(), Dict{AbstractString, PLite.LazyDiscrete}(), GridInterpolations.RectangleGrid{0}(), GridInterpolations.RectangleGrid{0}())"
      ]
     },
     "execution_count": 7,
     "metadata": {},
     "output_type": "execute_result"
    }
   ],
   "source": [
    "solver = SerialValueIteration()"
   ]
  },
  {
   "cell_type": "code",
   "execution_count": 8,
   "metadata": {},
   "outputs": [
    {
     "data": {
      "text/plain": [
       "PLite.LazyDiscrete(\"x\", 20.0)"
      ]
     },
     "execution_count": 8,
     "metadata": {},
     "output_type": "execute_result"
    }
   ],
   "source": [
    "const StepX = 20\n",
    "discretize_statevariable!(solver, \"x\", StepX)"
   ]
  },
  {
   "cell_type": "code",
   "execution_count": 9,
   "metadata": {},
   "outputs": [
    {
     "data": {
      "text/plain": [
       "PLite.LazyDiscrete(\"x\", 20.0)"
      ]
     },
     "execution_count": 9,
     "metadata": {},
     "output_type": "execute_result"
    }
   ],
   "source": [
    "solver = SerialValueIteration(maxiter=40, discount=1, verbose=true)\n",
    "discretize_statevariable!(solver, \"x\", StepX)"
   ]
  },
  {
   "cell_type": "code",
   "execution_count": 11,
   "metadata": {},
   "outputs": [
    {
     "name": "stderr",
     "output_type": "stream",
     "text": [
      "┌ Info: mdp and monte-carlo tree search solver passed basic checks\n",
      "└ @ PLite /Users/jeff/.julia/packages/PLite/ud1HP/src/mcts_checks.jl:5\n"
     ]
    },
    {
     "data": {
      "text/plain": [
       "SerialMCTS(50, 20, 3.0, 0.99, Dict{Vector{T} where T, PLite.StateNode}(), Dict{AbstractString, PLite.LazyDiscrete}(\"x\" => PLite.LazyDiscrete(\"x\", 20.0)), Dict{AbstractString, PLite.LazyDiscrete}(), GridInterpolations.RectangleGrid{2}([0.0, 20.0, 40.0, 60.0, 80.0, 100.0],[1.0, 2.0],), GridInterpolations.RectangleGrid{1}([1.0, 2.0, 3.0],))"
      ]
     },
     "execution_count": 11,
     "metadata": {},
     "output_type": "execute_result"
    }
   ],
   "source": [
    "# solver options\n",
    "solver = SerialMCTS()\n",
    "discretize_statevariable!(solver, \"x\", StepX)\n",
    "\n",
    "# generate results\n",
    "solution = solve(mdp, solver)"
   ]
  },
  {
   "cell_type": "code",
   "execution_count": 12,
   "metadata": {},
   "outputs": [
    {
     "data": {
      "text/plain": [
       "(::PLite.var\"#policy#23\"{MDP, SerialMCTS}) (generic function with 1 method)"
      ]
     },
     "execution_count": 12,
     "metadata": {},
     "output_type": "execute_result"
    }
   ],
   "source": [
    "policy = getpolicy(mdp, solution)"
   ]
  },
  {
   "cell_type": "code",
   "execution_count": 13,
   "metadata": {},
   "outputs": [
    {
     "ename": "LoadError",
     "evalue": "MethodError: no method matching -(::Vector{Float64}, ::Float64)\nFor element-wise subtraction, use broadcasting with dot syntax: array .- scalar\n\u001b[0mClosest candidates are:\n\u001b[0m  -(::Array, \u001b[91m::SparseArrays.AbstractSparseMatrixCSC\u001b[39m) at /Users/julia/buildbot/worker/package_macos64/build/usr/share/julia/stdlib/v1.6/SparseArrays/src/sparsematrix.jl:1747\n\u001b[0m  -(\u001b[91m::Base.TwicePrecision\u001b[39m, ::Number) at twiceprecision.jl:281\n\u001b[0m  -(\u001b[91m::LinearAlgebra.UniformScaling\u001b[39m, ::Number) at /Users/julia/buildbot/worker/package_macos64/build/usr/share/julia/stdlib/v1.6/LinearAlgebra/src/uniformscaling.jl:147\n\u001b[0m  ...",
     "output_type": "error",
     "traceback": [
      "MethodError: no method matching -(::Vector{Float64}, ::Float64)\nFor element-wise subtraction, use broadcasting with dot syntax: array .- scalar\n\u001b[0mClosest candidates are:\n\u001b[0m  -(::Array, \u001b[91m::SparseArrays.AbstractSparseMatrixCSC\u001b[39m) at /Users/julia/buildbot/worker/package_macos64/build/usr/share/julia/stdlib/v1.6/SparseArrays/src/sparsematrix.jl:1747\n\u001b[0m  -(\u001b[91m::Base.TwicePrecision\u001b[39m, ::Number) at twiceprecision.jl:281\n\u001b[0m  -(\u001b[91m::LinearAlgebra.UniformScaling\u001b[39m, ::Number) at /Users/julia/buildbot/worker/package_macos64/build/usr/share/julia/stdlib/v1.6/LinearAlgebra/src/uniformscaling.jl:147\n\u001b[0m  ...",
      "",
      "Stacktrace:",
      " [1] getgridstate(grid::GridInterpolations.RectangleGrid{2}, map::Dict{AbstractString, PLite.LazyVar}, argnames::Vector{String}, state::Vector{Any})",
      "   @ PLite ~/.julia/packages/PLite/ud1HP/src/mcts_serial.jl:206",
      " [2] simulate(mdp::MDP, smcts::SerialMCTS, depth::Int64, actualstate::Vector{Any})",
      "   @ PLite ~/.julia/packages/PLite/ud1HP/src/mcts_serial.jl:24",
      " [3] smctsaction!(mdp::MDP, smcts::SerialMCTS, actualstate::Vector{Any})",
      "   @ PLite ~/.julia/packages/PLite/ud1HP/src/mcts_serial.jl:7",
      " [4] (::PLite.var\"#policy#23\"{MDP, SerialMCTS})(::Float64, ::Vararg{Any, N} where N)",
      "   @ PLite ~/.julia/packages/PLite/ud1HP/src/mcts.jl:99",
      " [5] top-level scope",
      "   @ In[13]:2",
      " [6] eval",
      "   @ ./boot.jl:360 [inlined]",
      " [7] include_string(mapexpr::typeof(REPL.softscope), mod::Module, code::String, filename::String)",
      "   @ Base ./loading.jl:1094"
     ]
    }
   ],
   "source": [
    "stateq = (20.0, \"no\")\n",
    "actionq = policy(stateq...)"
   ]
  },
  {
   "cell_type": "code",
   "execution_count": null,
   "metadata": {},
   "outputs": [],
   "source": []
  }
 ],
 "metadata": {
  "kernelspec": {
   "display_name": "Julia 1.6.0",
   "language": "julia",
   "name": "julia-1.6"
  },
  "language_info": {
   "file_extension": ".jl",
   "mimetype": "application/julia",
   "name": "julia",
   "version": "1.6.0"
  }
 },
 "nbformat": 4,
 "nbformat_minor": 4
}
